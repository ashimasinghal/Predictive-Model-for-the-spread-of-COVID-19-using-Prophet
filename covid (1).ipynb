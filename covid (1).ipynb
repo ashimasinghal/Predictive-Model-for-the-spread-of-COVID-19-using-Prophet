{
 "cells": [
  {
   "cell_type": "code",
   "execution_count": null,
   "metadata": {},
   "outputs": [],
   "source": [
    "import numpy as np\n",
    "import pandas as pd\n",
    "import matplotlib.pyplot as plt\n",
    "%matplotlib inline"
   ]
  },
  {
   "cell_type": "code",
   "execution_count": null,
   "metadata": {},
   "outputs": [],
   "source": [
    "from sklearn import preprocessing\n",
    "lr = preprocessing.LabelEncoder()"
   ]
  },
  {
   "cell_type": "code",
   "execution_count": null,
   "metadata": {},
   "outputs": [],
   "source": [
    "from fbprophet import Prophet\n",
    "from fbprophet.plot import plot_plotly\n",
    "import plotly.offline as py\n",
    "py.init_notebook_mode(connected=True)\n",
    "import cufflinks as cf\n",
    "cf.go_offline()\n",
    "import plotly.graph_objects as go\n",
    "import plotly.express as px"
   ]
  },
  {
   "cell_type": "code",
   "execution_count": null,
   "metadata": {},
   "outputs": [],
   "source": [
    "# reading the csv file for input data\n",
    "df1 = pd.read_csv('train.csv')\n",
    "df2 = pd.read_csv('C:/Users/Ashima Singhal/Downloads/covid_19_data.csv')"
   ]
  },
  {
   "cell_type": "code",
   "execution_count": null,
   "metadata": {},
   "outputs": [],
   "source": [
    "df1.head()"
   ]
  },
  {
   "cell_type": "code",
   "execution_count": null,
   "metadata": {},
   "outputs": [],
   "source": [
    "df2.head()"
   ]
  },
  {
   "cell_type": "code",
   "execution_count": null,
   "metadata": {},
   "outputs": [],
   "source": [
    "#transforming the data according to our requirments\n",
    "df1['Target'] = lr.fit_transform(df1['Target'])\n",
    "df1.head()"
   ]
  },
  {
   "cell_type": "code",
   "execution_count": null,
   "metadata": {},
   "outputs": [],
   "source": [
    "\n",
    "df1['County'].unique()"
   ]
  },
  {
   "cell_type": "code",
   "execution_count": null,
   "metadata": {},
   "outputs": [],
   "source": [
    "df2.rename(columns={'Province/State': 'State'}, inplace=True)\n",
    "df2.rename(columns={'Country/Region': 'Country'}, inplace=True)"
   ]
  },
  {
   "cell_type": "code",
   "execution_count": null,
   "metadata": {},
   "outputs": [],
   "source": [
    "fig = px.choropleth(df2,\n",
    "                   locations='Country',\n",
    "                   locationmode = 'country names',\n",
    "                   color = 'Confirmed',\n",
    "                   hover_name = 'Country',\n",
    "                   animation_frame = 'Last Update')\n",
    "fig.update_layout(\n",
    "                title_text = 'spread of coronavirus',\n",
    "                title_x = 0.5,\n",
    "                geo = dict(\n",
    "                showframe = False,\n",
    "                showcoastlines = False,))\n",
    "fig.show()"
   ]
  },
  {
   "cell_type": "code",
   "execution_count": null,
   "metadata": {},
   "outputs": [],
   "source": [
    "df_confirmed, df_fatalities = [x for _, x in df1.groupby(df1['Target']>0)]\n",
    "df_confirmed"
   ]
  },
  {
   "cell_type": "code",
   "execution_count": null,
   "metadata": {},
   "outputs": [],
   "source": [
    "fig = px.choropleth(df_confirmed,\n",
    "                   locations='County',\n",
    "                   locationmode = 'country names',\n",
    "                   color = 'TargetValue',\n",
    "                   hover_name = 'County',\n",
    "                   animation_frame = 'Date')\n",
    "fig.update_layout(\n",
    "                title_text = 'spread of coronavirus',\n",
    "                title_x = 0.5,\n",
    "                geo = dict(\n",
    "                showframe = False,\n",
    "                showcoastlines = False,))\n",
    "fig.show()"
   ]
  },
  {
   "cell_type": "code",
   "execution_count": null,
   "metadata": {},
   "outputs": [],
   "source": [
    "dataframe = df2.groupby('ObservationDate')[['Recovered','Confirmed','Deaths']].sum()"
   ]
  },
  {
   "cell_type": "code",
   "execution_count": null,
   "metadata": {},
   "outputs": [],
   "source": [
    "fig1 = go.Bar(\n",
    "         \n",
    "          x = dataframe.index,\n",
    "          y = dataframe.Recovered,\n",
    "          name = 'Recovered')\n",
    "fig2 = go.Bar(\n",
    "        \n",
    "          x = dataframe.index,\n",
    "          y = dataframe.Confirmed,\n",
    "          name = 'Confirmed')\n",
    "fig3 = go.Bar(\n",
    "          \n",
    "          x = dataframe.index,\n",
    "          y = dataframe.Deaths,\n",
    "          name = 'Deaths')\n",
    "dt = [fig1, fig2, fig3]\n",
    "layout = go.Layout(title='Latest Stats')\n",
    "figure = go.Figure(data = dt, layout = layout)\n",
    "figure.show()"
   ]
  },
  {
   "cell_type": "code",
   "execution_count": null,
   "metadata": {},
   "outputs": [],
   "source": [
    "from numpy import NaN, NAN , nan\n",
    "df2['Country'].value_counts(dropna = False).head()\n",
    "#no nan values"
   ]
  },
  {
   "cell_type": "code",
   "execution_count": null,
   "metadata": {},
   "outputs": [],
   "source": [
    "df2.head()"
   ]
  },
  {
   "cell_type": "code",
   "execution_count": null,
   "metadata": {},
   "outputs": [],
   "source": [
    "df_confirmed = pd.read_csv('C:/Users/Ashima Singhal/Downloads/time_series_covid_19_confirmed.csv')\n",
    "df_confirmed.rename(columns={'Province/State':'State', 'Country/Region': 'Country'}, inplace=True)\n",
    "df_confirmed.head(10)"
   ]
  },
  {
   "cell_type": "code",
   "execution_count": null,
   "metadata": {},
   "outputs": [],
   "source": [
    "df_confirmed = df_confirmed[[\"State\",\"Lat\",\"Long\",\"Country\"]]\n",
    "df_temp = df2.copy()\n",
    "df_temp['Country'].replace({'Mainland China': 'China'}, inplace=True)\n",
    "df_latlong = pd.merge(df_temp, df_confirmed, on=[\"Country\", \"State\"])\n",
    "df_latlong"
   ]
  },
  {
   "cell_type": "code",
   "execution_count": null,
   "metadata": {},
   "outputs": [],
   "source": [
    "fig = px.density_mapbox(df_latlong, \n",
    "                        lat=\"Lat\", \n",
    "                        lon=\"Long\", \n",
    "                        hover_name=\"State\", \n",
    "                        hover_data=[\"Confirmed\",\"Deaths\",\"Recovered\"], \n",
    "                        animation_frame=\"ObservationDate\",\n",
    "                        color_continuous_scale=\"Portland\",\n",
    "                        radius=7, \n",
    "                        zoom=0,height=700)\n",
    "fig.update_layout(title='Worldwide Corona Virus Cases Time Lapse - Confirmed, Deaths, Recovered',\n",
    "                  font=dict(family=\"Courier New, monospace\",\n",
    "                            size=18,\n",
    "                            color=\"#7f7f7f\")\n",
    "                 )\n",
    "fig.update_layout(mapbox_style=\"open-street-map\", mapbox_center_lon=0)\n",
    "fig.update_layout(margin={\"r\":0,\"t\":0,\"l\":0,\"b\":0})\n",
    "\n",
    "\n",
    "fig.show()"
   ]
  },
  {
   "cell_type": "code",
   "execution_count": null,
   "metadata": {},
   "outputs": [],
   "source": [
    "dataframe.head(10)"
   ]
  },
  {
   "cell_type": "code",
   "execution_count": null,
   "metadata": {
    "scrolled": true
   },
   "outputs": [],
   "source": [
    "y = np.array(dataframe.iloc[:,1])\n",
    "y"
   ]
  },
  {
   "cell_type": "code",
   "execution_count": null,
   "metadata": {},
   "outputs": [],
   "source": [
    "train_dataset_confirmed = pd.DataFrame()\n",
    "train_dataset_confirmed['ds'] = pd.to_datetime(dataframe.index)\n",
    "train_dataset_confirmed['y']  = y\n",
    "train_dataset_confirmed"
   ]
  },
  {
   "cell_type": "code",
   "execution_count": null,
   "metadata": {},
   "outputs": [],
   "source": [
    "prophet_basic = Prophet()\n",
    "prophet_basic.fit(train_dataset_confirmed)"
   ]
  },
  {
   "cell_type": "code",
   "execution_count": null,
   "metadata": {},
   "outputs": [],
   "source": [
    "future = prophet_basic.make_future_dataframe(periods = 500)\n",
    "future.tail(2)"
   ]
  },
  {
   "cell_type": "code",
   "execution_count": null,
   "metadata": {},
   "outputs": [],
   "source": [
    "forecast = prophet_basic.predict(future)"
   ]
  },
  {
   "cell_type": "code",
   "execution_count": null,
   "metadata": {},
   "outputs": [],
   "source": [
    "basic_plot = prophet_basic.plot(forecast)"
   ]
  },
  {
   "cell_type": "code",
   "execution_count": null,
   "metadata": {},
   "outputs": [],
   "source": [
    "fig1 = prophet_basic.plot_components(forecast)"
   ]
  },
  {
   "cell_type": "code",
   "execution_count": null,
   "metadata": {},
   "outputs": [],
   "source": [
    "from fbprophet.plot import add_changepoints_to_plot\n",
    "fig = prophet_basic.plot(forecast)\n",
    "a = add_changepoints_to_plot(fig.gca(), prophet_basic, forecast)"
   ]
  },
  {
   "cell_type": "code",
   "execution_count": null,
   "metadata": {},
   "outputs": [],
   "source": [
    "pro_change = Prophet(changepoint_range=0.9)\n",
    "forecast = pro_change.fit(train_dataset_confirmed).predict(future)\n",
    "fig= pro_change.plot(forecast);\n",
    "a = add_changepoints_to_plot(fig.gca(), pro_change, forecast)"
   ]
  },
  {
   "cell_type": "code",
   "execution_count": null,
   "metadata": {},
   "outputs": [],
   "source": [
    "pro_change= Prophet(n_changepoints=20, yearly_seasonality=True, changepoint_prior_scale=0.08)\n",
    "forecast = pro_change.fit(train_dataset_confirmed).predict(future)\n",
    "fig= pro_change.plot(forecast);\n",
    "a = add_changepoints_to_plot(fig.gca(), pro_change, forecast)"
   ]
  },
  {
   "cell_type": "code",
   "execution_count": null,
   "metadata": {},
   "outputs": [],
   "source": []
  },
  {
   "cell_type": "code",
   "execution_count": null,
   "metadata": {},
   "outputs": [],
   "source": []
  },
  {
   "cell_type": "code",
   "execution_count": null,
   "metadata": {},
   "outputs": [],
   "source": []
  },
  {
   "cell_type": "code",
   "execution_count": null,
   "metadata": {},
   "outputs": [],
   "source": []
  },
  {
   "cell_type": "code",
   "execution_count": null,
   "metadata": {},
   "outputs": [],
   "source": []
  }
 ],
 "metadata": {
  "kernelspec": {
   "display_name": "Python 3",
   "language": "python",
   "name": "python3"
  },
  "language_info": {
   "codemirror_mode": {
    "name": "ipython",
    "version": 3
   },
   "file_extension": ".py",
   "mimetype": "text/x-python",
   "name": "python",
   "nbconvert_exporter": "python",
   "pygments_lexer": "ipython3",
   "version": "3.7.6"
  }
 },
 "nbformat": 4,
 "nbformat_minor": 4
}
